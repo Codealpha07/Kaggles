{
 "cells": [
  {
   "cell_type": "markdown",
   "metadata": {},
   "source": [
    "<u><b><p style=\"color:Red; text-align:center; background-color: yellow; font-size:300%\">House Prices Estimation</u></b></p>"
   ]
  },
  {
   "cell_type": "markdown",
   "metadata": {},
   "source": [
    "<b>Loading The data </b>"
   ]
  },
  {
   "cell_type": "code",
   "execution_count": 2,
   "metadata": {},
   "outputs": [],
   "source": [
    "import pandas as pd\n",
    "import numpy as np\n",
    "import matplotlib.pyplot as plt\n",
    "import seaborn as sns\n",
    "pd.options.display.max_seq_items = 2000\n",
    "pd.options.display.max_rows = 3000\n",
    "pd.options.display.max_columns = 500"
   ]
  },
  {
   "cell_type": "code",
   "execution_count": 3,
   "metadata": {},
   "outputs": [
    {
     "name": "stdout",
     "output_type": "stream",
     "text": [
      "(1460, 81) (1459, 80)\n"
     ]
    }
   ],
   "source": [
    "df_train = pd.read_csv(r\"C:\\Kaggles\\House Prices Predication\\DataSet\\train.csv\")\n",
    "df_test = pd.read_csv(r\"C:\\Kaggles\\House Prices Predication\\DataSet\\test.csv\")\n",
    "\n",
    "print(df_train.shape, df_test.shape)"
   ]
  },
  {
   "cell_type": "markdown",
   "metadata": {},
   "source": [
    "<b>Data Cleaning and Feature Engineering</b>"
   ]
  },
  {
   "cell_type": "code",
   "execution_count": 4,
   "metadata": {},
   "outputs": [],
   "source": [
    "df_train.drop('Id', axis=1, inplace=True)\n",
    "Id = df_test[\"Id\"]\n",
    "df_test.drop(\"Id\", axis=1, inplace=True)\n",
    "\n",
    "df_test[\"SalePrice\"] = np.nan"
   ]
  },
  {
   "cell_type": "code",
   "execution_count": null,
   "metadata": {},
   "outputs": [],
   "source": [
    "combined_df = pd.concat([df_train, df_test])\n",
    "combined_df.shape"
   ]
  },
  {
   "cell_type": "code",
   "execution_count": null,
   "metadata": {},
   "outputs": [],
   "source": [
    "combined_df = pd.get_dummies(combined_df)\n",
    "\n",
    "from sklearn.preprocessing import LabelEncoder\n",
    "\n",
    "label_encoders = {}\n",
    "for column in combined_df.select_dtypes(include=['object']).columns:\n",
    "    le = LabelEncoder()\n",
    "    combined_df[column] = le.fit_transform(combined_df[column])\n",
    "    label_encoders[column] = le\n",
    "\n",
    "combined_df.shape"
   ]
  },
  {
   "cell_type": "code",
   "execution_count": 7,
   "metadata": {},
   "outputs": [
    {
     "name": "stdout",
     "output_type": "stream",
     "text": [
      "(1460, 288) (1459, 288)\n"
     ]
    }
   ],
   "source": [
    "df_train = combined_df[combined_df[\"SalePrice\"].notna()]\n",
    "df_test = combined_df[combined_df[\"SalePrice\"].isna()]\n",
    "print(df_train.shape, df_test.shape)"
   ]
  },
  {
   "cell_type": "code",
   "execution_count": null,
   "metadata": {},
   "outputs": [],
   "source": [
    "df_test.drop(\"SalePrice\", axis=1, inplace=True)"
   ]
  },
  {
   "cell_type": "code",
   "execution_count": 10,
   "metadata": {},
   "outputs": [],
   "source": [
    "df_train = df_train.fillna(df_train.median()) \n",
    "df_test = df_test.fillna(df_test.median()) "
   ]
  },
  {
   "cell_type": "code",
   "execution_count": 11,
   "metadata": {},
   "outputs": [],
   "source": [
    "X = df_train.drop(\"SalePrice\", axis=1)\n",
    "Y = df_train.SalePrice"
   ]
  },
  {
   "cell_type": "code",
   "execution_count": 12,
   "metadata": {},
   "outputs": [],
   "source": [
    "from sklearn.model_selection import train_test_split\n",
    "X_train, X_test, Y_train, Y_test = train_test_split(X, Y, test_size=0.12, random_state=42)"
   ]
  },
  {
   "cell_type": "code",
   "execution_count": 14,
   "metadata": {},
   "outputs": [
    {
     "name": "stdout",
     "output_type": "stream",
     "text": [
      "[0.87707075 0.87159676 0.84992868 0.93040218 0.88463906 0.88134191\n",
      " 0.91210493 0.89530033 0.91210025 0.91874877]\n",
      "\n",
      "Average Score :  0.8933233625760237\n"
     ]
    }
   ],
   "source": [
    "from sklearn.model_selection import ShuffleSplit\n",
    "from sklearn.model_selection import cross_val_score\n",
    "from sklearn.ensemble import GradientBoostingRegressor\n",
    "\n",
    "cv_split = ShuffleSplit(n_splits=10, test_size=0.12, random_state=False)\n",
    "KFold_score_LR = cross_val_score(GradientBoostingRegressor(), X, Y, cv=cv_split)\n",
    "print(KFold_score_LR)\n",
    "print(\"\\nAverage Score : \", np.mean(KFold_score_LR))"
   ]
  },
  {
   "cell_type": "code",
   "execution_count": 15,
   "metadata": {},
   "outputs": [
    {
     "name": "stdout",
     "output_type": "stream",
     "text": [
      "[0.80142709 0.8533268  0.7470411  0.88897366 0.88194527 0.88637388\n",
      " 0.89076481 0.85483962 0.88024488 0.91897222]\n",
      "\n",
      "Average Score :  0.8603909328261562\n"
     ]
    }
   ],
   "source": [
    "from xgboost import XGBRegressor\n",
    "\n",
    "cv_split = ShuffleSplit(n_splits=10, test_size=0.12, random_state=False)\n",
    "KFold_score_LR = cross_val_score(XGBRegressor(), X, Y, cv=cv_split)\n",
    "print(KFold_score_LR)\n",
    "print(\"\\nAverage Score : \", np.mean(KFold_score_LR))"
   ]
  },
  {
   "cell_type": "code",
   "execution_count": 17,
   "metadata": {},
   "outputs": [],
   "source": [
    "from sklearn.metrics import r2_score, mean_absolute_error, mean_squared_error\n",
    "from sklearn.pipeline import Pipeline\n",
    "\n",
    "def prediction(model):\n",
    "\n",
    "    pipline = Pipeline([('model',model)])\n",
    "    pipline.fit(X_train,Y_train)\n",
    "    y_pred = pipline.predict(X_test)\n",
    "    print(f\"{model}\")\n",
    "    print(f\"r2_score is {r2_score(Y_test, y_pred)}\")\n",
    "    print(f\"mean_absolute_error is {mean_absolute_error(Y_test, y_pred)}\")\n",
    "    print(f\"Root mean squared error is {np.sqrt(mean_squared_error(Y_test, y_pred))}\")"
   ]
  },
  {
   "cell_type": "code",
   "execution_count": 18,
   "metadata": {},
   "outputs": [
    {
     "name": "stdout",
     "output_type": "stream",
     "text": [
      "GradientBoostingRegressor()\n",
      "r2_score is 0.8924643448237254\n",
      "mean_absolute_error is 16915.88816387009\n",
      "Root mean squared error is 31486.45966895068\n"
     ]
    }
   ],
   "source": [
    "best_model = GradientBoostingRegressor()\n",
    "prediction(best_model)"
   ]
  },
  {
   "cell_type": "code",
   "execution_count": 19,
   "metadata": {},
   "outputs": [],
   "source": [
    "predictions = best_model.predict(df_test)"
   ]
  },
  {
   "cell_type": "code",
   "execution_count": 20,
   "metadata": {},
   "outputs": [],
   "source": [
    "submission = pd.DataFrame({\n",
    "    \"Id\" : Id,\n",
    "    \"SalePrice\" : predictions\n",
    "})\n",
    "\n",
    "submission.to_csv(r\"C:\\Kaggles\\House Prices Predication\\Submissions\\submission_2.csv\", index = False)"
   ]
  }
 ],
 "metadata": {
  "kernelspec": {
   "display_name": "base",
   "language": "python",
   "name": "python3"
  },
  "language_info": {
   "codemirror_mode": {
    "name": "ipython",
    "version": 3
   },
   "file_extension": ".py",
   "mimetype": "text/x-python",
   "name": "python",
   "nbconvert_exporter": "python",
   "pygments_lexer": "ipython3",
   "version": "3.11.7"
  }
 },
 "nbformat": 4,
 "nbformat_minor": 2
}
